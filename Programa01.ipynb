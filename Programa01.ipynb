{
  "nbformat": 4,
  "nbformat_minor": 0,
  "metadata": {
    "colab": {
      "provenance": [],
      "authorship_tag": "ABX9TyN+oUjpregznOQ9atT1ET+P",
      "include_colab_link": true
    },
    "kernelspec": {
      "name": "python3",
      "display_name": "Python 3"
    },
    "language_info": {
      "name": "python"
    }
  },
  "cells": [
    {
      "cell_type": "markdown",
      "metadata": {
        "id": "view-in-github",
        "colab_type": "text"
      },
      "source": [
        "<a href=\"https://colab.research.google.com/github/gvendramin/AULATI/blob/main/Programa01.ipynb\" target=\"_parent\"><img src=\"https://colab.research.google.com/assets/colab-badge.svg\" alt=\"Open In Colab\"/></a>"
      ]
    },
    {
      "cell_type": "code",
      "execution_count": null,
      "metadata": {
        "id": "7eKYHSw2_G8E",
        "outputId": "96bd309e-7937-49f8-9b0b-1890a30f04a4",
        "colab": {
          "base_uri": "https://localhost:8080/"
        }
      },
      "outputs": [
        {
          "output_type": "stream",
          "name": "stdout",
          "text": [
            "<class 'float'>\n",
            "<class 'float'>\n",
            "<class 'float'>\n",
            "5.9934\n"
          ]
        }
      ],
      "source": [
        "#Importancia dos tipos de variaveis\n",
        "a = 2.75145\n",
        "print(type(a))\n",
        "b = 3.24195\n",
        "print(type(b))\n",
        "soma = a + b\n",
        "print(type(soma))\n",
        "print(soma)"
      ]
    },
    {
      "cell_type": "code",
      "source": [
        "num = int(input(\"Digite valor inteiro\"))\n",
        "print(type(num))\n",
        "quoc = num//2\n",
        "resto = num % 2\n",
        "print(quoc)\n",
        "print(resto)\n",
        "\n"
      ],
      "metadata": {
        "id": "ykBK33J-JTMp",
        "outputId": "55f6bd7a-d6fb-4654-d62a-554c18d153f5",
        "colab": {
          "base_uri": "https://localhost:8080/"
        }
      },
      "execution_count": null,
      "outputs": [
        {
          "output_type": "stream",
          "name": "stdout",
          "text": [
            "Digite valor inteiro8\n",
            "<class 'int'>\n",
            "4\n",
            "0\n"
          ]
        }
      ]
    },
    {
      "cell_type": "code",
      "source": [
        "base = int(input(\"Digite valor inteiro\"))\n",
        "altura = int(input(\"Digite valor inteiro\"))\n",
        "soma = base*altura//2\n",
        "print(soma)"
      ],
      "metadata": {
        "id": "q_L5Wl7gMULr",
        "outputId": "e6775eec-a632-4883-e1dc-a4bb3050013f",
        "colab": {
          "base_uri": "https://localhost:8080/"
        }
      },
      "execution_count": null,
      "outputs": [
        {
          "output_type": "stream",
          "name": "stdout",
          "text": [
            "Digite valor inteiro20\n",
            "Digite valor inteiro30\n",
            "300\n"
          ]
        }
      ]
    },
    {
      "cell_type": "code",
      "source": [
        "for i in range (0, 10, 2):\n",
        "    print(i)"
      ],
      "metadata": {
        "id": "TsgX2MbOLJlh",
        "outputId": "92cb8951-c34c-4fd6-d875-9666cf8c7bfa",
        "colab": {
          "base_uri": "https://localhost:8080/"
        }
      },
      "execution_count": null,
      "outputs": [
        {
          "output_type": "stream",
          "name": "stdout",
          "text": [
            "0\n",
            "2\n",
            "4\n",
            "6\n",
            "8\n"
          ]
        }
      ]
    },
    {
      "cell_type": "code",
      "source": [
        "x = int(input(\"Digite o valor de x: \"))\n",
        "r = x % 3\n",
        "if r == 0:\n",
        "    print(\"Multiplo\")\n",
        "else:\n",
        "    print(\"Não multiplo\")"
      ],
      "metadata": {
        "id": "YeDmDmASNH3t"
      },
      "execution_count": null,
      "outputs": []
    },
    {
      "cell_type": "code",
      "source": [
        "import math\n",
        "celsius = float(input(\"Digite a temperatura em graus celsius\"))\n",
        "fahrenheit = celsius *9/5 + 32\n",
        "print (fahrenheit)"
      ],
      "metadata": {
        "id": "JLJfiF9XM0Mx",
        "outputId": "57702346-bfc3-4ec8-9668-700b8f0d270d",
        "colab": {
          "base_uri": "https://localhost:8080/"
        }
      },
      "execution_count": 2,
      "outputs": [
        {
          "output_type": "stream",
          "name": "stdout",
          "text": [
            "Digite a temperatura em graus celsius0\n",
            "32.0\n"
          ]
        }
      ]
    }
  ]
}