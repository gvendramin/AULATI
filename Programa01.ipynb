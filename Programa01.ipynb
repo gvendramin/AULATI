{
  "nbformat": 4,
  "nbformat_minor": 0,
  "metadata": {
    "colab": {
      "provenance": [],
      "authorship_tag": "ABX9TyO0iZ9+hXOAF8TjF8S3iEGJ",
      "include_colab_link": true
    },
    "kernelspec": {
      "name": "python3",
      "display_name": "Python 3"
    },
    "language_info": {
      "name": "python"
    }
  },
  "cells": [
    {
      "cell_type": "markdown",
      "metadata": {
        "id": "view-in-github",
        "colab_type": "text"
      },
      "source": [
        "<a href=\"https://colab.research.google.com/github/gvendramin/AULATI/blob/main/Programa01.ipynb\" target=\"_parent\"><img src=\"https://colab.research.google.com/assets/colab-badge.svg\" alt=\"Open In Colab\"/></a>"
      ]
    },
    {
      "cell_type": "code",
      "execution_count": 4,
      "metadata": {
        "id": "7eKYHSw2_G8E",
        "outputId": "96bd309e-7937-49f8-9b0b-1890a30f04a4",
        "colab": {
          "base_uri": "https://localhost:8080/"
        }
      },
      "outputs": [
        {
          "output_type": "stream",
          "name": "stdout",
          "text": [
            "<class 'float'>\n",
            "<class 'float'>\n",
            "<class 'float'>\n",
            "5.9934\n"
          ]
        }
      ],
      "source": [
        "#Importancia dos tipos de variaveis\n",
        "a = 2.75145\n",
        "print(type(a))\n",
        "b = 3.24195\n",
        "print(type(b))\n",
        "soma = a + b\n",
        "print(type(soma))\n",
        "print(soma)"
      ]
    },
    {
      "cell_type": "code",
      "source": [
        "num = int(input(\"Digite valor inteiro\"))\n",
        "print(type(num))\n",
        "quoc = num//2\n",
        "resto = num % 2\n",
        "print(quoc)\n",
        "print(resto)\n",
        "\n"
      ],
      "metadata": {
        "id": "ykBK33J-JTMp",
        "outputId": "55f6bd7a-d6fb-4654-d62a-554c18d153f5",
        "colab": {
          "base_uri": "https://localhost:8080/"
        }
      },
      "execution_count": 13,
      "outputs": [
        {
          "output_type": "stream",
          "name": "stdout",
          "text": [
            "Digite valor inteiro8\n",
            "<class 'int'>\n",
            "4\n",
            "0\n"
          ]
        }
      ]
    },
    {
      "cell_type": "code",
      "source": [
        "base = int(input(\"Digite valor inteiro\"))\n",
        "altura = int(input(\"Digite valor inteiro\"))\n",
        "soma = base*altura//2\n",
        "print(soma)"
      ],
      "metadata": {
        "id": "q_L5Wl7gMULr",
        "outputId": "e6775eec-a632-4883-e1dc-a4bb3050013f",
        "colab": {
          "base_uri": "https://localhost:8080/"
        }
      },
      "execution_count": 20,
      "outputs": [
        {
          "output_type": "stream",
          "name": "stdout",
          "text": [
            "Digite valor inteiro20\n",
            "Digite valor inteiro30\n",
            "300\n"
          ]
        }
      ]
    }
  ]
}